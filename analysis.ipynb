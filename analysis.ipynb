{
 "cells": [
  {
   "cell_type": "markdown",
   "metadata": {},
   "source": [
    "# Notebook to analyze Results from alevin with transcriptome index and alevin-fry with splici index\n",
    "\n",
    "The purpose is to evaluate the how similar the results from alevin and alevin-fry are for different scRNA and snRNA-seq experiments.\n",
    "\n",
    "\n",
    "This is done by looking at the number of cells/nuclei left after filtering, the overlap of barcodes and spearman correlation per cell. \n",
    "\n",
    "Functions for spearman boxplot are from https://github.com/COMBINE-lab/alevin-fry-paper-scripts.\n",
    "\n"
   ]
  },
  {
   "cell_type": "code",
   "execution_count": 2,
   "metadata": {},
   "outputs": [],
   "source": [
    "import warnings\n",
    "warnings.simplefilter(action='ignore', category=FutureWarning)\n",
    "import scanpy \n",
    "import os\n",
    "import pandas as pd\n",
    "import numpy as np\n",
    "import scipy as sp\n",
    "import scipy.stats\n",
    "import matplotlib.pyplot as plt\n",
    "import seaborn as sns\n",
    "import json\n",
    "import glob"
   ]
  },
  {
   "cell_type": "code",
   "execution_count": 4,
   "metadata": {},
   "outputs": [],
   "source": [
    "#from https://github.com/COMBINE-lab/alevin-fry-paper-scripts.\n",
    "\n",
    "def sp_corr_df(d1, d2, shared, shared_cells, kind=\"cells\", thresh=1):\n",
    "    '''\n",
    "    Given 2 AnnData objects, a list of shared genes `shared` and \n",
    "    a list of shared cells `shared_cells`, compute the pariwise spearman \n",
    "    correlation of type `kind`.  If `kind` is \"cells\", then compute the \n",
    "    cellwise spearman correlations, if it is \"genes\" compute the genewise\n",
    "    spearman correlations.  The result is a distribution (list) of correlation\n",
    "    values.\n",
    "    '''\n",
    "    a = d1[shared_cells, shared].X.copy()\n",
    "    b = d2[shared_cells, shared].X.copy()\n",
    "    if kind == \"cells\":\n",
    "        corrs = np.zeros(len(shared_cells))\n",
    "        for i,c in enumerate(shared_cells):\n",
    "            sr,p = sp.stats.spearmanr(a[i,:].toarray()[0], b[i,:].toarray()[0])\n",
    "            corrs[i]=sr\n",
    "    elif kind == \"genes\":\n",
    "        a = a.T.tocsr()\n",
    "        b = b.T.tocsr()\n",
    "        corrs = np.zeros(len(shared))\n",
    "        for i,c in enumerate(shared):\n",
    "            sr,p = scipy.stats.spearmanr(a[i,:].toarray()[0], b[i,:].toarray()[0])\n",
    "            corrs[i]=sr\n",
    "    return corrs"
   ]
  },
  {
   "cell_type": "code",
   "execution_count": 17,
   "metadata": {},
   "outputs": [],
   "source": [
    "#from https://github.com/COMBINE-lab/alevin-fry-paper-scripts.\n",
    "def maximum (A, B):\n",
    "    '''\n",
    "    Select the maximum, entry-wise among matricies A and B.    \n",
    "    '''\n",
    "    # https://stackoverflow.com/questions/19311353/element-wise-maximum-of-two-sparse-matrices\n",
    "    BisBigger = A-B\n",
    "    BisBigger.data = np.where(BisBigger.data < 0, 1, 0)\n",
    "    return A - A.multiply(BisBigger) + B.multiply(BisBigger)"
   ]
  },
  {
   "cell_type": "code",
   "execution_count": 18,
   "metadata": {},
   "outputs": [],
   "source": [
    "#from https://github.com/COMBINE-lab/alevin-fry-paper-scripts.\n",
    "def get_metrics(truth, pred_in):\n",
    "    '''\n",
    "    Compute and return the metrics we are evaluating.\n",
    "    '''  \n",
    "    shared_obs = pred_in.obs.index.intersection(truth.obs.index)\n",
    "    shared_var = pred_in.var.index.intersection(truth.var.index)\n",
    "\n",
    "    truth_filt = truth[shared_obs, shared_var].copy()\n",
    "    pred = pred_in[shared_obs, shared_var].copy()\n",
    "    #entry_rd = (pred.X - truth_filt.X) / maximum(truth_filt.X, pred.X)\n",
    "    #entry_ard_nonan = np.abs(entry_rd[~np.isnan(entry_rd)])\n",
    "    #mard_drop_nan = entry_ard_nonan.mean()\n",
    "    \n",
    "    #entry_rdc = entry_rd.copy()\n",
    "    #entry_rdc[np.isnan(entry_rdc)] = 0.0\n",
    "    #mard_nan_zero = np.abs(entry_rdc).mean()\n",
    "    \n",
    "    spearmans = sp_corr_df(truth_filt, pred, pred.var_names, pred.obs_names)\n",
    "    \n",
    "    #fps = [np.logical_and(truth_filt.X[i,:].toarray() == 0, pred.X[i,:].toarray() > 0).sum() for i in range(pred.X.shape[0])]\n",
    "    #num_expressed = [ np.sum(truth_filt.X[i,:].toarray() > 0) for i in range(pred.X.shape[0])]\n",
    "    \n",
    "    #fp_gene_per_cell = np.mean(np.array(fps)/np.array(num_expressed))\n",
    "  \n",
    "    #fns = [np.logical_and(truth_filt.X[i,:].toarray() > 0, pred.X[i,:].toarray() == 0).sum() for i in range(pred.X.shape[0])]\n",
    "    #num_expressed = [ np.sum(truth_filt.X[i,:].toarray() > 0) for i in range(pred.X.shape[0])]\n",
    "    \n",
    "    #fn_gene_per_cell = np.mean(np.array(fns)/np.array(num_expressed))\n",
    "    \n",
    "    rd = {'spearmans' : spearmans}\n",
    "    return rd"
   ]
  },
  {
   "cell_type": "code",
   "execution_count": 5,
   "metadata": {},
   "outputs": [],
   "source": [
    "#from https://github.com/COMBINE-lab/alevin-fry-paper-scripts.\n",
    "def print_summary_metrics(resdict):\n",
    "    print('Mean per-cell Spearman correlation: {:.4f}'.format(resdict['spearmans'].mean()))\n",
    "    print('MARD (dropping NANs) : {:.4f}'.format(resdict['mard_drop_nan']))\n",
    "    print('MARD (setting NANs = 0) : {:.4f}'.format(resdict['mard']))\n",
    "    print('rFP / cell : {:.4f}%'.format(100*resdict['fp_gene_per_cell']))\n",
    "    print('rFN / cell : {:.4f}%'.format(100*resdict['fn_gene_per_cell']))"
   ]
  },
  {
   "cell_type": "code",
   "execution_count": 19,
   "metadata": {},
   "outputs": [],
   "source": [
    "#from https://github.com/COMBINE-lab/alevin-fry-paper-scripts.\n",
    "def get_shared(list_of_annd):\n",
    "    shared_cells = list_of_annd[0].obs_names\n",
    "    shared_genes = list_of_annd[0].var_names\n",
    "    for annd in list_of_annd[1:]:\n",
    "        shared_cells &= annd.obs_names\n",
    "        shared_genes &= annd.var_names \n",
    "    return shared_cells, shared_genes"
   ]
  },
  {
   "cell_type": "code",
   "execution_count": 5,
   "metadata": {},
   "outputs": [],
   "source": [
    "#from https://github.com/COMBINE-lab/alevin-fry-paper-scripts.\n",
    "def legend_without_duplicate_labels(ax, loc='lower right'):\n",
    "    '''\n",
    "    from : https://stackoverflow.com/questions/19385639/duplicate-items-in-legend-in-matplotlib\n",
    "    '''\n",
    "    handles, labels = ax.get_legend_handles_labels()\n",
    "    unique = [(h, l) for i, (h, l) in enumerate(zip(handles, labels)) if l not in labels[:i]]\n",
    "    ax.legend(*zip(*unique), loc=loc)"
   ]
  },
  {
   "cell_type": "code",
   "execution_count": 20,
   "metadata": {},
   "outputs": [],
   "source": [
    "#from https://github.com/COMBINE-lab/alevin-fry-paper-scripts.\n",
    "def plot_spearman_dists(mdict, plot_name):\n",
    "    sns.set_context('poster')#, font_scale=1.4, rc={\"lines.linewidth\": 2})\n",
    "    sns.set_style('white')\n",
    "    datalist = []\n",
    "    name_order = []\n",
    "    for i, (mn, m) in enumerate(mdict.items()):\n",
    "        name_order.append(mn)\n",
    "        datalist += [(mn, e) for e in m['spearmans']]\n",
    "\n",
    "    data = pd.DataFrame.from_records(datalist, columns=['method', 'per-cell Spearman corr.'])\n",
    "    g = sns.boxenplot(data=data, y='method', x=\"per-cell Spearman corr.\", hue='method', linewidth=0.5, dodge=False)\n",
    "    g.set_xlabel('per/cell Spearman correlation')\n",
    "    g.set_ylabel('method')\n",
    "    fig = plt.gcf()\n",
    "    fig.set_size_inches(10,8)\n",
    "    sns.despine()\n",
    "    plt.savefig(plot_name, bbox_inches='tight', dpi=300)"
   ]
  },
  {
   "cell_type": "code",
   "execution_count": null,
   "metadata": {},
   "outputs": [],
   "source": []
  },
  {
   "cell_type": "code",
   "execution_count": 3,
   "metadata": {},
   "outputs": [],
   "source": [
    "#from https://github.com/COMBINE-lab/alevin-fry-paper-scripts.\n",
    "def get_res_summary(mdict):\n",
    "    datalist = []\n",
    "    for mn, m in mdict.items():\n",
    "        datalist.append((mn, m['spearmans'].mean(), m['mard_drop_nan'], m['mard'], m['fp_gene_per_cell'], m['fn_gene_per_cell']))\n",
    "    \n",
    "    data = pd.DataFrame.from_records(datalist, \n",
    "        columns=['method', 'mean Spearman corr.', 'MARD (drop NA)', 'MARD (NA=0)', 'rFP/cell', 'rFN/cell'])\n",
    "    return data"
   ]
  },
  {
   "cell_type": "code",
   "execution_count": 4,
   "metadata": {},
   "outputs": [],
   "source": [
    "def get_exp_names(exp_list):\n",
    "    name_list = []\n",
    "    for i in exp_list:\n",
    "        file_name = (os.path.basename(i))\n",
    "        name = (file_name.split(\"_\")[0])\n",
    "        name_list.append(name)\n",
    "    return name_list\n",
    "    "
   ]
  },
  {
   "cell_type": "code",
   "execution_count": 5,
   "metadata": {},
   "outputs": [],
   "source": [
    "def check_name_lists(name_list1, name_list2):\n",
    "    if name_list1 == name_list2:\n",
    "        print(\"exp_names are correct!\")\n",
    "    else:\n",
    "        print(\"wrong names\")\n",
    "        \n",
    "        "
   ]
  },
  {
   "cell_type": "code",
   "execution_count": 6,
   "metadata": {},
   "outputs": [],
   "source": [
    "def print_dict(my_dict):\n",
    "    print(\"{:<20} {:<20} {:<20} {:<20} {:<20}\".format('Experiment','barcodes alevin-fry','barcodes alevin', 'total overlap', '% overlap'))\n",
    "    for k, v in my_dict.items():\n",
    "        bc_fry, bc_alevin, tot_ol, pct_ol = v\n",
    "        print(\"{:<20} {:<20} {:<20} {:<20} {:<20}\".format(k,bc_fry, bc_alevin, tot_ol, pct_ol))\n",
    "\n"
   ]
  },
  {
   "cell_type": "code",
   "execution_count": 12,
   "metadata": {},
   "outputs": [],
   "source": [
    "def get_barcode_metrics(fry_path, alevin_path, names):\n",
    "    metric_dict = {}\n",
    "    for path_fry, path_alevin, name in zip(fry_path, alevin_path, names):\n",
    "        print(name)\n",
    "        fry = scanpy.read_h5ad(path_fry)\n",
    "        alevin = scanpy.read_h5ad(path_alevin)\n",
    "        intersect_barcodes = len(list(set(alevin.obs_names).intersection(fry.obs_names)))\n",
    "        all_barcodes = intersect_barcodes +(len(alevin.obs_names)-intersect_barcodes) + (len(fry.obs_names)-intersect_barcodes)\n",
    "        percent_intersection = np.round(intersect_barcodes/all_barcodes, decimals=2)\n",
    "        metric_dict[name] = [len(fry.obs_names), len(alevin.obs_names), intersect_barcodes , percent_intersection]\n",
    "    print_dict(metric_dict)"
   ]
  },
  {
   "cell_type": "code",
   "execution_count": 13,
   "metadata": {},
   "outputs": [],
   "source": [
    "def make_exp_dict(fry_sn_path, alevin_sn_path, sn_names):\n",
    "    exp_dict = {}\n",
    "    for path_fry, path_alevin, name in zip(fry_sn_path, alevin_sn_path, sn_names):\n",
    "        print(name)\n",
    "        fry = scanpy.read_h5ad(path_fry, as_sparse=\"X\")\n",
    "        alevin = scanpy.read_h5ad(path_alevin, as_sparse=\"X\")\n",
    "        shared_cells, shared_genes = get_shared([fry, alevin])\n",
    "        fry_res = get_metrics(fry[shared_cells, shared_genes], alevin[shared_cells, shared_genes])\n",
    "        exp_dict[name] =  fry_res\n",
    "    return(exp_dict)"
   ]
  },
  {
   "cell_type": "markdown",
   "metadata": {},
   "source": [
    "# Start of analysis\n",
    "\n",
    "The functions we will need to read and process the data are declared above and the analysis starts here.\n"
   ]
  },
  {
   "cell_type": "markdown",
   "metadata": {},
   "source": [
    "Select the paths for experiments"
   ]
  },
  {
   "cell_type": "code",
   "execution_count": null,
   "metadata": {},
   "outputs": [],
   "source": [
    "fry_sn_path=sorted(glob.glob(\"mtx_for_galaxy/galaxy_h5ad/E-MTAB-11104_frysn.h5ad\") )\n",
    "fry_sc_path=sorted(glob.glob(\"mtx_for_galaxy/galaxy_h5ad/*fry_sc\")) \n",
    "alevin_sn_path=sorted(glob.glob(\"mtx_for_galaxy/galaxy_h5ad/E-MTAB-11104_alevin_sn*\")) \n",
    "alevin_sc_path=sorted(glob.glob(\"mtx_for_galaxy/galaxy_h5ad/*alevin_sc*\")) \n",
    "fry_path=sorted(glob.glob(\"mtx_for_galaxy/galaxy_h5ad/*fry_*\")) \n",
    "alevin_path=sorted(glob.glob(\"mtx_for_galaxy/galaxy_h5ad/*alevin_*\"))"
   ]
  },
  {
   "cell_type": "code",
   "execution_count": null,
   "metadata": {},
   "outputs": [],
   "source": [
    "sc_names = get_exp_names(fry_sc_path)\n",
    "sn_names = get_exp_names(fry_sn_path)\n",
    "names = get_exp_names(alevin_path)"
   ]
  },
  {
   "cell_type": "code",
   "execution_count": null,
   "metadata": {},
   "outputs": [],
   "source": [
    "alevin_sn_path"
   ]
  },
  {
   "cell_type": "markdown",
   "metadata": {},
   "source": [
    "Plot the spearman distance for each experiement between alevin and alevin-fry on shared cells and genes for\n",
    "\n",
    "\n",
    "a) snRNA"
   ]
  },
  {
   "cell_type": "code",
   "execution_count": 10,
   "metadata": {},
   "outputs": [],
   "source": [
    "color = {'E-CURD-90' : (200/255.0, 184/255.0, 114/255.0),\n",
    "        'E-ENAD-53' : (106/255.0, 123/255.0, 197/255.0) , \n",
    "          'E-GEOD-147601' : (117/255.0, 0/255.0, 117/255.0), \n",
    "          'E-MTAB-8751' : (191/255.0, 114/255.0, 106/255.0), \n",
    "          'E-MTAB-8848' : (0/255.0, 118/255.0, 0/255.0)}"
   ]
  },
  {
   "cell_type": "code",
   "execution_count": null,
   "metadata": {},
   "outputs": [
    {
     "name": "stdout",
     "output_type": "stream",
     "text": [
      "E-CURD-119\n",
      "E-CURD-90\n",
      "E-ENAD-53\n",
      "E-GEOD-131882\n"
     ]
    }
   ],
   "source": [
    "exp_dict = make_exp_dict(fry_sn_path, alevin_sn_path, sn_names)\n",
    "plot_spearman_dists(exp_dict, 'example.pdf')"
   ]
  },
  {
   "cell_type": "markdown",
   "metadata": {},
   "source": [
    "![SNOWFALL](spearman_dist_sn.pdf)"
   ]
  },
  {
   "cell_type": "markdown",
   "metadata": {},
   "source": [
    "b) scRNA"
   ]
  },
  {
   "cell_type": "code",
   "execution_count": null,
   "metadata": {},
   "outputs": [],
   "source": [
    "color = {'E-CURD-90' : (200/255.0, 184/255.0, 114/255.0),\n",
    "        'E-ENAD-53' : (106/255.0, 123/255.0, 197/255.0) , \n",
    "          'E-GEOD-147601' : (117/255.0, 0/255.0, 117/255.0), \n",
    "          'E-MTAB-8751' : (191/255.0, 114/255.0, 106/255.0), \n",
    "          'E-MTAB-8848' : (0/255.0, 118/255.0, 0/255.0)}"
   ]
  },
  {
   "cell_type": "code",
   "execution_count": null,
   "metadata": {},
   "outputs": [],
   "source": [
    "\n",
    "sc_dict = make_exp_dict(fry_sc_path, alevin_sc_path, sc_names)\n",
    "plot_spearman_dists(sc_dict)"
   ]
  },
  {
   "cell_type": "code",
   "execution_count": null,
   "metadata": {},
   "outputs": [
    {
     "name": "stdout",
     "output_type": "stream",
     "text": [
      "E-MTAB-11104\n"
     ]
    }
   ],
   "source": [
    "sn_dict = make_exp_dict(fry_sn_path, alevin_sn_path, sn_names)\n",
    "plot_spearman_dists(sn_dict)"
   ]
  },
  {
   "cell_type": "markdown",
   "metadata": {},
   "source": [
    "![SNOWFALL](spearman_dist_sc.pdf)"
   ]
  },
  {
   "cell_type": "markdown",
   "metadata": {},
   "source": [
    "Get the number of overlapping barcodes for each experiment"
   ]
  },
  {
   "cell_type": "code",
   "execution_count": 18,
   "metadata": {},
   "outputs": [
    {
     "name": "stdout",
     "output_type": "stream",
     "text": [
      "E-CURD-117\n",
      "E-CURD-13\n",
      "E-CURD-87\n",
      "E-ENAD-30\n",
      "E-GEOD-135922\n",
      "E-GEOD-137537\n",
      "E-GEOD-158761\n",
      "E-MTAB-7417\n",
      "E-MTAB-9221\n",
      "Experiment           barcodes alevin-fry  barcodes alevin      total overlap        % overlap           \n",
      "E-CURD-117           8410                 8201                 8182                 0.97                \n",
      "E-CURD-13            8512                 7980                 7958                 0.93                \n",
      "E-CURD-87            5083                 5023                 4983                 0.97                \n",
      "E-ENAD-30            8124                 6806                 6566                 0.79                \n",
      "E-GEOD-135922        19412                19721                18318                0.88                \n",
      "E-GEOD-137537        1561                 4434                 1523                 0.34                \n",
      "E-GEOD-158761        16750                9202                 8900                 0.52                \n",
      "E-MTAB-7417          2193                 2207                 1868                 0.74                \n",
      "E-MTAB-9221          8389                 7211                 6934                 0.8                 \n"
     ]
    }
   ],
   "source": [
    "get_barcode_metrics(fry_sc_path, alevin_sc_path, sc_names)"
   ]
  },
  {
   "cell_type": "code",
   "execution_count": 19,
   "metadata": {},
   "outputs": [
    {
     "name": "stdout",
     "output_type": "stream",
     "text": [
      "E-CURD-119\n",
      "E-CURD-90\n",
      "E-ENAD-53\n",
      "E-GEOD-131882\n",
      "E-GEOD-147601\n",
      "E-MTAB-8751\n",
      "E-MTAB-8848\n",
      "Experiment           barcodes alevin-fry  barcodes alevin      total overlap        % overlap           \n",
      "E-CURD-119           37271                15700                15698                0.42                \n",
      "E-CURD-90            1330                 611                  610                  0.46                \n",
      "E-ENAD-53            15477                5141                 3184                 0.18                \n",
      "E-GEOD-131882        45017                19433                19428                0.43                \n",
      "E-GEOD-147601        25458                17770                17639                0.69                \n",
      "E-MTAB-8751          7532                 6818                 4742                 0.49                \n",
      "E-MTAB-8848          5763                 1331                 1330                 0.23                \n"
     ]
    }
   ],
   "source": [
    "get_barcode_metrics(fry_sn_path, alevin_sn_path, sn_names)"
   ]
  },
  {
   "cell_type": "markdown",
   "metadata": {},
   "source": [
    "Get a summary of the results, and print them as a table."
   ]
  },
  {
   "cell_type": "markdown",
   "metadata": {},
   "source": [
    "Plot the frequency decay of gene presence across cells"
   ]
  },
  {
   "cell_type": "markdown",
   "metadata": {},
   "source": [
    "Read in the table for the mapping rates for each experiment"
   ]
  },
  {
   "cell_type": "code",
   "execution_count": 2,
   "metadata": {},
   "outputs": [],
   "source": [
    "mapping_rate = pd.read_csv(\"mtx_for_galaxy/all_mapping_rates.tsv\", delimiter=\"\\t\")"
   ]
  },
  {
   "cell_type": "code",
   "execution_count": 3,
   "metadata": {},
   "outputs": [
    {
     "data": {
      "text/plain": [
       "0      Alevin-fry\n",
       "1          Alevin\n",
       "2      Alevin-fry\n",
       "3          Alevin\n",
       "4      Alevin-fry\n",
       "          ...    \n",
       "159    Alevin-fry\n",
       "160        Alevin\n",
       "161    Alevin-fry\n",
       "162        Alevin\n",
       "163    Alevin-fry\n",
       "Name: tool, Length: 164, dtype: object"
      ]
     },
     "execution_count": 3,
     "metadata": {},
     "output_type": "execute_result"
    }
   ],
   "source": [
    "mapping_rate['tool']"
   ]
  },
  {
   "cell_type": "markdown",
   "metadata": {},
   "source": [
    "Make a boxplot for the mapping rates"
   ]
  },
  {
   "cell_type": "code",
   "execution_count": 11,
   "metadata": {},
   "outputs": [
    {
     "data": {
      "text/plain": [
       "([<matplotlib.axis.YTick at 0x16bd85ca0>,\n",
       "  <matplotlib.axis.YTick at 0x16bd85520>,\n",
       "  <matplotlib.axis.YTick at 0x16bd80c40>,\n",
       "  <matplotlib.axis.YTick at 0x16bdfb1f0>,\n",
       "  <matplotlib.axis.YTick at 0x16bdfb9a0>,\n",
       "  <matplotlib.axis.YTick at 0x17884e130>],\n",
       " [Text(0, 0, ''),\n",
       "  Text(0, 0, ''),\n",
       "  Text(0, 0, ''),\n",
       "  Text(0, 0, ''),\n",
       "  Text(0, 0, ''),\n",
       "  Text(0, 0, '')])"
      ]
     },
     "execution_count": 11,
     "metadata": {},
     "output_type": "execute_result"
    },
    {
     "data": {
      "image/png": "[encoded data removed]",
      "text/plain": [
       "<Figure size 216x576 with 1 Axes>"
      ]
     },
     "metadata": {
      "needs_background": "light"
     },
     "output_type": "display_data"
    }
   ],
   "source": [
    "plt.rcParams.update({'font.size': 16})\n",
    "plt.rcParams.update({'figure.figsize': [3, 8]})\n",
    "plt.rcParams[\"font.weight\"] = \"bold\"\n",
    "plt.rcParams[\"axes.labelweight\"] = \"bold\"\n",
    "plot = sns.boxplot(x = 'tool', y = 'mapping rate (%)', hue = 'type', data=mapping_rate,  palette='Set2', order= [\"Alevin\", \"Alevin-fry\"])#  ax=ax[0])\n",
    "#plot.legend(loc='center left', bbox_to_anchor=(1, 0.5))\n",
    "plt.yticks(np.arange(0, 120, 20))"
   ]
  },
  {
   "cell_type": "code",
   "execution_count": 13,
   "metadata": {},
   "outputs": [],
   "source": [
    "splice_ratio = pd.read_csv(\"mtx_for_galaxy/solice.tsv\", delimiter=\"\\t\")"
   ]
  },
  {
   "cell_type": "code",
   "execution_count": 15,
   "metadata": {},
   "outputs": [
    {
     "data": {
      "text/plain": [
       "([<matplotlib.axis.YTick at 0x179bf6160>,\n",
       "  <matplotlib.axis.YTick at 0x179bee9a0>,\n",
       "  <matplotlib.axis.YTick at 0x179be9a90>,\n",
       "  <matplotlib.axis.YTick at 0x179d62160>,\n",
       "  <matplotlib.axis.YTick at 0x179d62910>,\n",
       "  <matplotlib.axis.YTick at 0x179d690a0>],\n",
       " [Text(0, 0, ''),\n",
       "  Text(0, 0, ''),\n",
       "  Text(0, 0, ''),\n",
       "  Text(0, 0, ''),\n",
       "  Text(0, 0, ''),\n",
       "  Text(0, 0, '')])"
      ]
     },
     "execution_count": 15,
     "metadata": {},
     "output_type": "execute_result"
    },
    {
     "data": {
      "image/png": "[encoded data removed]",
      "text/plain": [
       "<Figure size 216x576 with 1 Axes>"
      ]
     },
     "metadata": {
      "needs_background": "light"
     },
     "output_type": "display_data"
    }
   ],
   "source": [
    "plt.rcParams.update({'font.size': 16})\n",
    "plt.rcParams.update({'figure.figsize': [3, 8]})\n",
    "plot = sns.boxplot(x = 'state' , y = 'percentage',hue = 'type',  data= splice_ratio,  palette='Set2', hue_order= ['scRNA', 'snRNA'])#  ax=ax[0])\n",
    "#plot.legend(loc='center left', bbox_to_anchor=(1, 0.5))\n",
    "plt.yticks(np.arange(0, 120, 20))"
   ]
  },
  {
   "cell_type": "code",
   "execution_count": 16,
   "metadata": {},
   "outputs": [],
   "source": [
    "mem = pd.read_csv(\"mtx_for_galaxy/memory.tsv\", delimiter=\"\\t\")"
   ]
  },
  {
   "cell_type": "code",
   "execution_count": 23,
   "metadata": {},
   "outputs": [
    {
     "data": {
      "text/plain": [
       "(array([0, 1, 2, 3, 4, 5, 6, 7, 8]),\n",
       " [Text(0, 0, 'E-CURD-117'),\n",
       "  Text(1, 0, 'E-CURD-119'),\n",
       "  Text(2, 0, 'E-ENAD-30'),\n",
       "  Text(3, 0, 'E-GEOD-131882'),\n",
       "  Text(4, 0, 'E-GEOD-134722'),\n",
       "  Text(5, 0, 'E-GEOD-135922'),\n",
       "  Text(6, 0, 'E-HCAD-30'),\n",
       "  Text(7, 0, 'E-MTAB-11268'),\n",
       "  Text(8, 0, 'E-MTAB-7417')])"
      ]
     },
     "execution_count": 23,
     "metadata": {},
     "output_type": "execute_result"
    },
    {
     "data": {
      "image/png": "[encoded data removed]",
      "text/plain": [
       "<Figure size 360x576 with 1 Axes>"
      ]
     },
     "metadata": {
      "needs_background": "light"
     },
     "output_type": "display_data"
    }
   ],
   "source": [
    "plt.rcParams.update({'font.size': 18})\n",
    "plt.rcParams.update({'figure.figsize': [5, 8]})\n",
    "plot = sns.barplot(x = 'experiment' , y = 'memory (MB)',hue = 'type',  data= mem ,  palette='Set1')#  ax=ax[0])\n",
    "#plot.legend(loc='center left', bbox_to_anchor=(1, 0.5))\n",
    "#plt.yticks(np.arange(0, 120, 20))\n",
    "plt.xticks(rotation=90)"
   ]
  },
  {
   "cell_type": "code",
   "execution_count": 20,
   "metadata": {},
   "outputs": [],
   "source": [
    "time = pd.read_csv(\"mtx_for_galaxy/time.tsv\", delimiter=\"\\t\")"
   ]
  },
  {
   "cell_type": "code",
   "execution_count": 22,
   "metadata": {},
   "outputs": [
    {
     "data": {
      "text/plain": [
       "(array([0, 1, 2, 3, 4, 5, 6, 7, 8]),\n",
       " [Text(0, 0, 'E-CURD-117'),\n",
       "  Text(1, 0, 'E-CURD-119'),\n",
       "  Text(2, 0, 'E-ENAD-30'),\n",
       "  Text(3, 0, 'E-GEOD-131882'),\n",
       "  Text(4, 0, 'E-GEOD-134722'),\n",
       "  Text(5, 0, 'E-GEOD-135922'),\n",
       "  Text(6, 0, 'E-HCAD-30'),\n",
       "  Text(7, 0, 'E-MTAB-11268'),\n",
       "  Text(8, 0, 'E-MTAB-7417')])"
      ]
     },
     "execution_count": 22,
     "metadata": {},
     "output_type": "execute_result"
    },
    {
     "data": {
      "image/png": "[encoded data removed]",
      "text/plain": [
       "<Figure size 360x576 with 1 Axes>"
      ]
     },
     "metadata": {
      "needs_background": "light"
     },
     "output_type": "display_data"
    }
   ],
   "source": [
    "plt.rcParams.update({'font.size': 18})\n",
    "plt.rcParams.update({'figure.figsize': [5, 8]})\n",
    "plot = sns.barplot(x = 'experiment' , y = 'time (sec.)',hue = 'type',  data= time ,  palette='Set1')#  ax=ax[0])\n",
    "#plot.legend(loc='center left', bbox_to_anchor=(1, 0.5))\n",
    "#plt.yticks(np.arange(0, 120, 20))\n",
    "plt.xticks(rotation=90)"
   ]
  }
 ],
 "metadata": {
  "interpreter": {
   "hash": "0de10fc0778d7d044041cd41c35e29282db7e1f6c4c98efa7d2ddd287001e544"
  },
  "kernelspec": {
   "display_name": "Python 3 (ipykernel)",
   "language": "python",
   "name": "python3"
  },
  "language_info": {
   "codemirror_mode": {
    "name": "ipython",
    "version": 3
   },
   "file_extension": ".py",
   "mimetype": "text/x-python",
   "name": "python",
   "nbconvert_exporter": "python",
   "pygments_lexer": "ipython3",
   "version": "3.9.13"
  }
 },
 "nbformat": 4,
 "nbformat_minor": 4
}
